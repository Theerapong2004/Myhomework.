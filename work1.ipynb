{
 "cells": [
  {
   "cell_type": "code",
   "execution_count": 1,
   "id": "224da19b-3798-4d3a-abf3-dd8685a167a5",
   "metadata": {
    "tags": []
   },
   "outputs": [
    {
     "name": "stdout",
     "output_type": "stream",
     "text": [
      "ธีรพงษ์ บุญเลี้ยง 6612732114\n"
     ]
    }
   ],
   "source": [
    "print (\"ธีรพงษ์ บุญเลี้ยง 6612732114\")"
   ]
  },
  {
   "cell_type": "code",
   "execution_count": null,
   "id": "d5abfb04-f386-4096-b1e2-734df448ee37",
   "metadata": {},
   "outputs": [],
   "source": []
  }
 ],
 "metadata": {
  "kernelspec": {
   "display_name": "Python 3 (ipykernel)",
   "language": "python",
   "name": "python3"
  },
  "language_info": {
   "codemirror_mode": {
    "name": "ipython",
    "version": 3
   },
   "file_extension": ".py",
   "mimetype": "text/x-python",
   "name": "python",
   "nbconvert_exporter": "python",
   "pygments_lexer": "ipython3",
   "version": "3.11.5"
  }
 },
 "nbformat": 4,
 "nbformat_minor": 5
}
